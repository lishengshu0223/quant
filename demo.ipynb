{
 "cells": [
  {
   "cell_type": "code",
   "execution_count": 2,
   "metadata": {
    "collapsed": true
   },
   "outputs": [],
   "source": [
    "import pandas as pd\n",
    "import numpy as np\n",
    "import torch\n",
    "from tqdm import tqdm\n",
    "from torch.utils.data import DataLoader\n",
    "from my_model.linear_model import layer_4 as MyModel\n",
    "from my_dataset.linear_dataset import MyDataset"
   ]
  },
  {
   "cell_type": "code",
   "execution_count": 3,
   "outputs": [
    {
     "name": "stdout",
     "output_type": "stream",
     "text": [
      "loaded\n"
     ]
    }
   ],
   "source": [
    "factor_concat = pd.read_pickle(\"F:\\\\Neural_Networks\\data\\\\factor_concat_2018_2019.pkl\")\n",
    "stock_return = pd.read_pickle(\"../data/stock_return.pkl\")\n",
    "print(\"loaded\")"
   ],
   "metadata": {
    "collapsed": false,
    "pycharm": {
     "name": "#%%\n"
    }
   }
  },
  {
   "cell_type": "code",
   "execution_count": 3,
   "outputs": [],
   "source": [
    "dataset = MyDataset(factor_concat, stock_return)\n",
    "dataloader = DataLoader(dataset, batch_size=256, shuffle=False, drop_last=False)"
   ],
   "metadata": {
    "collapsed": false,
    "pycharm": {
     "name": "#%%\n"
    }
   }
  },
  {
   "cell_type": "code",
   "execution_count": 4,
   "outputs": [
    {
     "data": {
      "text/plain": "MyModel(\n  (linear_relu_stack): Sequential(\n    (0): Linear(in_features=975, out_features=1024, bias=True)\n    (1): ReLU()\n    (2): Linear(in_features=1024, out_features=256, bias=True)\n    (3): ReLU()\n    (4): Linear(in_features=256, out_features=16, bias=True)\n    (5): ReLU()\n    (6): Linear(in_features=16, out_features=1, bias=True)\n  )\n)"
     },
     "execution_count": 4,
     "metadata": {},
     "output_type": "execute_result"
    }
   ],
   "source": [
    "device = torch.device(\"cuda:0\" if torch.cuda.is_available() else \"cpu\")\n",
    "feature_num = len(factor_concat.columns.levels[0])\n",
    "model = MyModel(975)\n",
    "model.load_state_dict(torch.load('./log/optimizer_3.pth'))\n",
    "model.to(device)"
   ],
   "metadata": {
    "collapsed": false,
    "pycharm": {
     "name": "#%%\n"
    }
   }
  },
  {
   "cell_type": "code",
   "execution_count": 5,
   "outputs": [
    {
     "name": "stderr",
     "output_type": "stream",
     "text": [
      "100%|██████████| 2824/2824 [00:37<00:00, 74.79it/s]\n"
     ]
    }
   ],
   "source": [
    "score = stock_return.copy()\n",
    "score.iloc[:,:] = np.nan\n",
    "score_dict = {}\n",
    "for date in dataset.date_num_dict.keys():\n",
    "    score_dict[date] = {}\n",
    "for date_num, code_num, x, y in tqdm(dataloader):\n",
    "    date_list = date_num.numpy().flatten()\n",
    "    code_list = code_num.numpy().flatten()\n",
    "    x = x.float().to(device)\n",
    "    y_pred = model(x)\n",
    "    y_pred = torch.sigmoid(y_pred).to(\"cpu\").detach().numpy().flatten()\n",
    "    for i in range(len(date_list)):\n",
    "        date = dataset.num_date_dict[date_list[i]]\n",
    "        code = dataset.num_code_dict[code_list[i]]\n",
    "        score_dict[date][code] = y_pred[i]"
   ],
   "metadata": {
    "collapsed": false,
    "pycharm": {
     "name": "#%%\n"
    }
   }
  },
  {
   "cell_type": "code",
   "execution_count": 6,
   "outputs": [
    {
     "data": {
      "text/plain": "               000001.SZ  000002.SZ     000004.SZ     000005.SZ     000006.SZ  \\\n2018-01-02  1.674431e-09   0.000061  9.367107e-01  1.964904e-08           NaN   \n2018-01-03  7.049394e-03   0.051552  7.180343e-09  1.231847e-09           NaN   \n2018-01-04  1.345494e-04   0.000167  5.793924e-05  4.346762e-06           NaN   \n2018-01-05  1.466781e-04   0.000386  7.622755e-02  2.226872e-08           NaN   \n2018-01-08  9.372060e-05   0.000203  9.910941e-01  6.434327e-10           NaN   \n...                  ...        ...           ...           ...           ...   \n2018-12-24  1.596441e-01   0.991094  3.692443e-14  8.149223e-24  1.179057e-23   \n2018-12-25  7.199393e-03   0.991094  8.392545e-08  6.631390e-13  1.355390e-22   \n2018-12-26  7.280520e-01   0.991094  3.732641e-11  7.646464e-10  2.345414e-32   \n2018-12-27  1.766204e-02   0.915746  4.002693e-06  7.986500e-12  1.988469e-14   \n2018-12-28  9.832015e-02   0.982239  5.880845e-14  3.449716e-24  6.210059e-14   \n\n               000007.SZ     000008.SZ     000009.SZ     000010.SZ  \\\n2018-01-02           NaN  2.181135e-03  2.760838e-03  5.561548e-05   \n2018-01-03           NaN  5.317497e-03  8.014403e-01  2.452897e-08   \n2018-01-04           NaN  8.676589e-04  5.084209e-10  1.341131e-10   \n2018-01-05           NaN  1.428700e-01  2.016734e-02  1.795323e-17   \n2018-01-08           NaN  4.259214e-01  1.495047e-01           NaN   \n...                  ...           ...           ...           ...   \n2018-12-24  5.078403e-10  4.761026e-22  2.943645e-01  2.692356e-13   \n2018-12-25  1.766647e-16  1.943868e-24  9.802596e-01  2.325973e-13   \n2018-12-26  6.043851e-12  4.251574e-21  4.708403e-01  2.530946e-10   \n2018-12-27  8.318009e-16  1.972729e-20  9.644081e-01  1.566926e-02   \n2018-12-28  1.428925e-15  1.054494e-17  9.910941e-01  9.910941e-01   \n\n               000011.SZ  ...     603987.SH     603988.SH     603989.SH  \\\n2018-01-02  8.349029e-03  ...  8.993637e-01  1.684310e-09  5.218646e-09   \n2018-01-03  8.402367e-01  ...  1.938251e-05  6.693937e-13  8.695626e-09   \n2018-01-04  6.881686e-01  ...  1.501812e-06  7.016414e-14  9.787318e-01   \n2018-01-05  1.531438e-18  ...  3.755191e-05  6.454463e-13  9.871002e-01   \n2018-01-08  3.924577e-14  ...  3.285881e-01  3.440670e-07  2.387230e-01   \n...                  ...  ...           ...           ...           ...   \n2018-12-24  9.910941e-01  ...  7.846678e-09  4.481966e-21  2.181221e-05   \n2018-12-25  9.910941e-01  ...  9.910941e-01  2.411407e-16  5.627196e-03   \n2018-12-26  9.910941e-01  ...  7.959883e-01  2.509803e-07  6.028892e-04   \n2018-12-27  9.910941e-01  ...  1.302051e-01  3.219269e-09  3.278830e-02   \n2018-12-28  9.910941e-01  ...  7.101754e-01  3.515958e-09  2.331016e-06   \n\n               603990.SH     603991.SH     603993.SH     603996.SH  \\\n2018-01-02  9.910941e-01           NaN  9.910941e-01  3.314729e-04   \n2018-01-03  9.910941e-01           NaN  9.910941e-01  2.982812e-03   \n2018-01-04  9.910941e-01           NaN  1.063346e-04  1.895422e-09   \n2018-01-05  9.581183e-09           NaN  9.674773e-11  7.638127e-06   \n2018-01-08  5.932048e-10           NaN  4.222314e-16  5.874323e-03   \n...                  ...           ...           ...           ...   \n2018-12-24  3.371537e-03  9.910941e-01  6.823422e-03  1.373195e-01   \n2018-12-25  9.919490e-07  5.853765e-13  2.316767e-04  7.036497e-07   \n2018-12-26  4.234668e-13  1.809653e-13  2.887509e-06  9.221887e-09   \n2018-12-27  1.320072e-16  2.631806e-15  1.659571e-08  1.965088e-15   \n2018-12-28  5.821321e-13  1.923986e-09  8.684375e-08  5.379777e-09   \n\n               603997.SH     603998.SH  603999.SH  \n2018-01-02  1.978273e-07  2.179466e-05   0.000034  \n2018-01-03  1.196739e-01  9.910941e-01   0.991094  \n2018-01-04  9.468600e-04  4.352411e-11   0.775334  \n2018-01-05  9.910941e-01  4.052931e-08   0.006881  \n2018-01-08  9.910941e-01  1.785989e-01   0.024010  \n...                  ...           ...        ...  \n2018-12-24  1.930915e-10  4.406850e-06   0.000043  \n2018-12-25  6.291958e-10  3.286891e-03   0.991094  \n2018-12-26  8.901346e-01  9.899746e-01   0.000003  \n2018-12-27  7.767084e-01  9.910941e-01   0.000024  \n2018-12-28  9.173331e-01  6.657470e-02   0.004624  \n\n[243 rows x 3417 columns]",
      "text/html": "<div>\n<style scoped>\n    .dataframe tbody tr th:only-of-type {\n        vertical-align: middle;\n    }\n\n    .dataframe tbody tr th {\n        vertical-align: top;\n    }\n\n    .dataframe thead th {\n        text-align: right;\n    }\n</style>\n<table border=\"1\" class=\"dataframe\">\n  <thead>\n    <tr style=\"text-align: right;\">\n      <th></th>\n      <th>000001.SZ</th>\n      <th>000002.SZ</th>\n      <th>000004.SZ</th>\n      <th>000005.SZ</th>\n      <th>000006.SZ</th>\n      <th>000007.SZ</th>\n      <th>000008.SZ</th>\n      <th>000009.SZ</th>\n      <th>000010.SZ</th>\n      <th>000011.SZ</th>\n      <th>...</th>\n      <th>603987.SH</th>\n      <th>603988.SH</th>\n      <th>603989.SH</th>\n      <th>603990.SH</th>\n      <th>603991.SH</th>\n      <th>603993.SH</th>\n      <th>603996.SH</th>\n      <th>603997.SH</th>\n      <th>603998.SH</th>\n      <th>603999.SH</th>\n    </tr>\n  </thead>\n  <tbody>\n    <tr>\n      <th>2018-01-02</th>\n      <td>1.674431e-09</td>\n      <td>0.000061</td>\n      <td>9.367107e-01</td>\n      <td>1.964904e-08</td>\n      <td>NaN</td>\n      <td>NaN</td>\n      <td>2.181135e-03</td>\n      <td>2.760838e-03</td>\n      <td>5.561548e-05</td>\n      <td>8.349029e-03</td>\n      <td>...</td>\n      <td>8.993637e-01</td>\n      <td>1.684310e-09</td>\n      <td>5.218646e-09</td>\n      <td>9.910941e-01</td>\n      <td>NaN</td>\n      <td>9.910941e-01</td>\n      <td>3.314729e-04</td>\n      <td>1.978273e-07</td>\n      <td>2.179466e-05</td>\n      <td>0.000034</td>\n    </tr>\n    <tr>\n      <th>2018-01-03</th>\n      <td>7.049394e-03</td>\n      <td>0.051552</td>\n      <td>7.180343e-09</td>\n      <td>1.231847e-09</td>\n      <td>NaN</td>\n      <td>NaN</td>\n      <td>5.317497e-03</td>\n      <td>8.014403e-01</td>\n      <td>2.452897e-08</td>\n      <td>8.402367e-01</td>\n      <td>...</td>\n      <td>1.938251e-05</td>\n      <td>6.693937e-13</td>\n      <td>8.695626e-09</td>\n      <td>9.910941e-01</td>\n      <td>NaN</td>\n      <td>9.910941e-01</td>\n      <td>2.982812e-03</td>\n      <td>1.196739e-01</td>\n      <td>9.910941e-01</td>\n      <td>0.991094</td>\n    </tr>\n    <tr>\n      <th>2018-01-04</th>\n      <td>1.345494e-04</td>\n      <td>0.000167</td>\n      <td>5.793924e-05</td>\n      <td>4.346762e-06</td>\n      <td>NaN</td>\n      <td>NaN</td>\n      <td>8.676589e-04</td>\n      <td>5.084209e-10</td>\n      <td>1.341131e-10</td>\n      <td>6.881686e-01</td>\n      <td>...</td>\n      <td>1.501812e-06</td>\n      <td>7.016414e-14</td>\n      <td>9.787318e-01</td>\n      <td>9.910941e-01</td>\n      <td>NaN</td>\n      <td>1.063346e-04</td>\n      <td>1.895422e-09</td>\n      <td>9.468600e-04</td>\n      <td>4.352411e-11</td>\n      <td>0.775334</td>\n    </tr>\n    <tr>\n      <th>2018-01-05</th>\n      <td>1.466781e-04</td>\n      <td>0.000386</td>\n      <td>7.622755e-02</td>\n      <td>2.226872e-08</td>\n      <td>NaN</td>\n      <td>NaN</td>\n      <td>1.428700e-01</td>\n      <td>2.016734e-02</td>\n      <td>1.795323e-17</td>\n      <td>1.531438e-18</td>\n      <td>...</td>\n      <td>3.755191e-05</td>\n      <td>6.454463e-13</td>\n      <td>9.871002e-01</td>\n      <td>9.581183e-09</td>\n      <td>NaN</td>\n      <td>9.674773e-11</td>\n      <td>7.638127e-06</td>\n      <td>9.910941e-01</td>\n      <td>4.052931e-08</td>\n      <td>0.006881</td>\n    </tr>\n    <tr>\n      <th>2018-01-08</th>\n      <td>9.372060e-05</td>\n      <td>0.000203</td>\n      <td>9.910941e-01</td>\n      <td>6.434327e-10</td>\n      <td>NaN</td>\n      <td>NaN</td>\n      <td>4.259214e-01</td>\n      <td>1.495047e-01</td>\n      <td>NaN</td>\n      <td>3.924577e-14</td>\n      <td>...</td>\n      <td>3.285881e-01</td>\n      <td>3.440670e-07</td>\n      <td>2.387230e-01</td>\n      <td>5.932048e-10</td>\n      <td>NaN</td>\n      <td>4.222314e-16</td>\n      <td>5.874323e-03</td>\n      <td>9.910941e-01</td>\n      <td>1.785989e-01</td>\n      <td>0.024010</td>\n    </tr>\n    <tr>\n      <th>...</th>\n      <td>...</td>\n      <td>...</td>\n      <td>...</td>\n      <td>...</td>\n      <td>...</td>\n      <td>...</td>\n      <td>...</td>\n      <td>...</td>\n      <td>...</td>\n      <td>...</td>\n      <td>...</td>\n      <td>...</td>\n      <td>...</td>\n      <td>...</td>\n      <td>...</td>\n      <td>...</td>\n      <td>...</td>\n      <td>...</td>\n      <td>...</td>\n      <td>...</td>\n      <td>...</td>\n    </tr>\n    <tr>\n      <th>2018-12-24</th>\n      <td>1.596441e-01</td>\n      <td>0.991094</td>\n      <td>3.692443e-14</td>\n      <td>8.149223e-24</td>\n      <td>1.179057e-23</td>\n      <td>5.078403e-10</td>\n      <td>4.761026e-22</td>\n      <td>2.943645e-01</td>\n      <td>2.692356e-13</td>\n      <td>9.910941e-01</td>\n      <td>...</td>\n      <td>7.846678e-09</td>\n      <td>4.481966e-21</td>\n      <td>2.181221e-05</td>\n      <td>3.371537e-03</td>\n      <td>9.910941e-01</td>\n      <td>6.823422e-03</td>\n      <td>1.373195e-01</td>\n      <td>1.930915e-10</td>\n      <td>4.406850e-06</td>\n      <td>0.000043</td>\n    </tr>\n    <tr>\n      <th>2018-12-25</th>\n      <td>7.199393e-03</td>\n      <td>0.991094</td>\n      <td>8.392545e-08</td>\n      <td>6.631390e-13</td>\n      <td>1.355390e-22</td>\n      <td>1.766647e-16</td>\n      <td>1.943868e-24</td>\n      <td>9.802596e-01</td>\n      <td>2.325973e-13</td>\n      <td>9.910941e-01</td>\n      <td>...</td>\n      <td>9.910941e-01</td>\n      <td>2.411407e-16</td>\n      <td>5.627196e-03</td>\n      <td>9.919490e-07</td>\n      <td>5.853765e-13</td>\n      <td>2.316767e-04</td>\n      <td>7.036497e-07</td>\n      <td>6.291958e-10</td>\n      <td>3.286891e-03</td>\n      <td>0.991094</td>\n    </tr>\n    <tr>\n      <th>2018-12-26</th>\n      <td>7.280520e-01</td>\n      <td>0.991094</td>\n      <td>3.732641e-11</td>\n      <td>7.646464e-10</td>\n      <td>2.345414e-32</td>\n      <td>6.043851e-12</td>\n      <td>4.251574e-21</td>\n      <td>4.708403e-01</td>\n      <td>2.530946e-10</td>\n      <td>9.910941e-01</td>\n      <td>...</td>\n      <td>7.959883e-01</td>\n      <td>2.509803e-07</td>\n      <td>6.028892e-04</td>\n      <td>4.234668e-13</td>\n      <td>1.809653e-13</td>\n      <td>2.887509e-06</td>\n      <td>9.221887e-09</td>\n      <td>8.901346e-01</td>\n      <td>9.899746e-01</td>\n      <td>0.000003</td>\n    </tr>\n    <tr>\n      <th>2018-12-27</th>\n      <td>1.766204e-02</td>\n      <td>0.915746</td>\n      <td>4.002693e-06</td>\n      <td>7.986500e-12</td>\n      <td>1.988469e-14</td>\n      <td>8.318009e-16</td>\n      <td>1.972729e-20</td>\n      <td>9.644081e-01</td>\n      <td>1.566926e-02</td>\n      <td>9.910941e-01</td>\n      <td>...</td>\n      <td>1.302051e-01</td>\n      <td>3.219269e-09</td>\n      <td>3.278830e-02</td>\n      <td>1.320072e-16</td>\n      <td>2.631806e-15</td>\n      <td>1.659571e-08</td>\n      <td>1.965088e-15</td>\n      <td>7.767084e-01</td>\n      <td>9.910941e-01</td>\n      <td>0.000024</td>\n    </tr>\n    <tr>\n      <th>2018-12-28</th>\n      <td>9.832015e-02</td>\n      <td>0.982239</td>\n      <td>5.880845e-14</td>\n      <td>3.449716e-24</td>\n      <td>6.210059e-14</td>\n      <td>1.428925e-15</td>\n      <td>1.054494e-17</td>\n      <td>9.910941e-01</td>\n      <td>9.910941e-01</td>\n      <td>9.910941e-01</td>\n      <td>...</td>\n      <td>7.101754e-01</td>\n      <td>3.515958e-09</td>\n      <td>2.331016e-06</td>\n      <td>5.821321e-13</td>\n      <td>1.923986e-09</td>\n      <td>8.684375e-08</td>\n      <td>5.379777e-09</td>\n      <td>9.173331e-01</td>\n      <td>6.657470e-02</td>\n      <td>0.004624</td>\n    </tr>\n  </tbody>\n</table>\n<p>243 rows × 3417 columns</p>\n</div>"
     },
     "execution_count": 6,
     "metadata": {},
     "output_type": "execute_result"
    }
   ],
   "source": [
    "score = pd.DataFrame(score_dict)\n",
    "score.reindex(stock_return.columns)\n",
    "score = score.sort_index().T\n",
    "score.to_pickle(\"F:\\Multifactor_Project\\score.pkl\")\n",
    "score"
   ],
   "metadata": {
    "collapsed": false,
    "pycharm": {
     "name": "#%%\n"
    }
   }
  },
  {
   "cell_type": "code",
   "execution_count": 7,
   "outputs": [],
   "source": [
    "del factor_concat"
   ],
   "metadata": {
    "collapsed": false,
    "pycharm": {
     "name": "#%%\n"
    }
   }
  },
  {
   "cell_type": "code",
   "execution_count": 85,
   "outputs": [
    {
     "data": {
      "text/plain": "code       000001.SZ 000002.SZ 000004.SZ 000005.SZ 000006.SZ 000007.SZ  \\\ndt                                                                       \n2019-01-02         1         0         0         0         0         0   \n2019-01-03         1         0         0         1         0         0   \n2019-01-04         0         0         0         1         0         0   \n2019-01-07         1         0         0         1         0         0   \n2019-01-08         1         0         0         1         0         0   \n...              ...       ...       ...       ...       ...       ...   \n2022-12-16         0         0         0         1         1         0   \n2022-12-19         0         0         1         1         1         1   \n2022-12-20         1         0         1         1         1         0   \n2022-12-21         0         0         1         1         1         0   \n2022-12-22         0         0         0         0         1         0   \n\ncode       000008.SZ 000009.SZ 000010.SZ 000011.SZ  ... 688786.SH 688787.SH  \\\ndt                                                  ...                       \n2019-01-02         0         0         0         0  ...       NaN       NaN   \n2019-01-03         0         0         0         0  ...       NaN       NaN   \n2019-01-04         0         0         1         0  ...       NaN       NaN   \n2019-01-07         0         0         1         0  ...       NaN       NaN   \n2019-01-08         0         0         1         0  ...       NaN       NaN   \n...              ...       ...       ...       ...  ...       ...       ...   \n2022-12-16         0         0         0         0  ...         0         0   \n2022-12-19         0         1         1         0  ...         0         0   \n2022-12-20         0         0         0         1  ...         0         0   \n2022-12-21         0         0         0         1  ...         0         0   \n2022-12-22         0         0         0         0  ...         0         0   \n\ncode       688788.SH 688789.SH 688793.SH 688798.SH 688799.SH 688800.SH  \\\ndt                                                                       \n2019-01-02       NaN       NaN       NaN       NaN       NaN       NaN   \n2019-01-03       NaN       NaN       NaN       NaN       NaN       NaN   \n2019-01-04       NaN       NaN       NaN       NaN       NaN       NaN   \n2019-01-07       NaN       NaN       NaN       NaN       NaN       NaN   \n2019-01-08       NaN       NaN       NaN       NaN       NaN       NaN   \n...              ...       ...       ...       ...       ...       ...   \n2022-12-16         0         1         1         0         0         0   \n2022-12-19         0         0         0         0         0         0   \n2022-12-20         0         0         1         0         0         1   \n2022-12-21         0         0         1         0         0         0   \n2022-12-22         0         0         0         0         0         1   \n\ncode       688819.SH 688981.SH  \ndt                              \n2019-01-02       NaN       NaN  \n2019-01-03       NaN       NaN  \n2019-01-04       NaN       NaN  \n2019-01-07       NaN       NaN  \n2019-01-08       NaN       NaN  \n...              ...       ...  \n2022-12-16         0         0  \n2022-12-19         0         0  \n2022-12-20         0         0  \n2022-12-21         1         0  \n2022-12-22         1         0  \n\n[966 rows x 5002 columns]",
      "text/html": "<div>\n<style scoped>\n    .dataframe tbody tr th:only-of-type {\n        vertical-align: middle;\n    }\n\n    .dataframe tbody tr th {\n        vertical-align: top;\n    }\n\n    .dataframe thead th {\n        text-align: right;\n    }\n</style>\n<table border=\"1\" class=\"dataframe\">\n  <thead>\n    <tr style=\"text-align: right;\">\n      <th>code</th>\n      <th>000001.SZ</th>\n      <th>000002.SZ</th>\n      <th>000004.SZ</th>\n      <th>000005.SZ</th>\n      <th>000006.SZ</th>\n      <th>000007.SZ</th>\n      <th>000008.SZ</th>\n      <th>000009.SZ</th>\n      <th>000010.SZ</th>\n      <th>000011.SZ</th>\n      <th>...</th>\n      <th>688786.SH</th>\n      <th>688787.SH</th>\n      <th>688788.SH</th>\n      <th>688789.SH</th>\n      <th>688793.SH</th>\n      <th>688798.SH</th>\n      <th>688799.SH</th>\n      <th>688800.SH</th>\n      <th>688819.SH</th>\n      <th>688981.SH</th>\n    </tr>\n    <tr>\n      <th>dt</th>\n      <th></th>\n      <th></th>\n      <th></th>\n      <th></th>\n      <th></th>\n      <th></th>\n      <th></th>\n      <th></th>\n      <th></th>\n      <th></th>\n      <th></th>\n      <th></th>\n      <th></th>\n      <th></th>\n      <th></th>\n      <th></th>\n      <th></th>\n      <th></th>\n      <th></th>\n      <th></th>\n      <th></th>\n    </tr>\n  </thead>\n  <tbody>\n    <tr>\n      <th>2019-01-02</th>\n      <td>1</td>\n      <td>0</td>\n      <td>0</td>\n      <td>0</td>\n      <td>0</td>\n      <td>0</td>\n      <td>0</td>\n      <td>0</td>\n      <td>0</td>\n      <td>0</td>\n      <td>...</td>\n      <td>NaN</td>\n      <td>NaN</td>\n      <td>NaN</td>\n      <td>NaN</td>\n      <td>NaN</td>\n      <td>NaN</td>\n      <td>NaN</td>\n      <td>NaN</td>\n      <td>NaN</td>\n      <td>NaN</td>\n    </tr>\n    <tr>\n      <th>2019-01-03</th>\n      <td>1</td>\n      <td>0</td>\n      <td>0</td>\n      <td>1</td>\n      <td>0</td>\n      <td>0</td>\n      <td>0</td>\n      <td>0</td>\n      <td>0</td>\n      <td>0</td>\n      <td>...</td>\n      <td>NaN</td>\n      <td>NaN</td>\n      <td>NaN</td>\n      <td>NaN</td>\n      <td>NaN</td>\n      <td>NaN</td>\n      <td>NaN</td>\n      <td>NaN</td>\n      <td>NaN</td>\n      <td>NaN</td>\n    </tr>\n    <tr>\n      <th>2019-01-04</th>\n      <td>0</td>\n      <td>0</td>\n      <td>0</td>\n      <td>1</td>\n      <td>0</td>\n      <td>0</td>\n      <td>0</td>\n      <td>0</td>\n      <td>1</td>\n      <td>0</td>\n      <td>...</td>\n      <td>NaN</td>\n      <td>NaN</td>\n      <td>NaN</td>\n      <td>NaN</td>\n      <td>NaN</td>\n      <td>NaN</td>\n      <td>NaN</td>\n      <td>NaN</td>\n      <td>NaN</td>\n      <td>NaN</td>\n    </tr>\n    <tr>\n      <th>2019-01-07</th>\n      <td>1</td>\n      <td>0</td>\n      <td>0</td>\n      <td>1</td>\n      <td>0</td>\n      <td>0</td>\n      <td>0</td>\n      <td>0</td>\n      <td>1</td>\n      <td>0</td>\n      <td>...</td>\n      <td>NaN</td>\n      <td>NaN</td>\n      <td>NaN</td>\n      <td>NaN</td>\n      <td>NaN</td>\n      <td>NaN</td>\n      <td>NaN</td>\n      <td>NaN</td>\n      <td>NaN</td>\n      <td>NaN</td>\n    </tr>\n    <tr>\n      <th>2019-01-08</th>\n      <td>1</td>\n      <td>0</td>\n      <td>0</td>\n      <td>1</td>\n      <td>0</td>\n      <td>0</td>\n      <td>0</td>\n      <td>0</td>\n      <td>1</td>\n      <td>0</td>\n      <td>...</td>\n      <td>NaN</td>\n      <td>NaN</td>\n      <td>NaN</td>\n      <td>NaN</td>\n      <td>NaN</td>\n      <td>NaN</td>\n      <td>NaN</td>\n      <td>NaN</td>\n      <td>NaN</td>\n      <td>NaN</td>\n    </tr>\n    <tr>\n      <th>...</th>\n      <td>...</td>\n      <td>...</td>\n      <td>...</td>\n      <td>...</td>\n      <td>...</td>\n      <td>...</td>\n      <td>...</td>\n      <td>...</td>\n      <td>...</td>\n      <td>...</td>\n      <td>...</td>\n      <td>...</td>\n      <td>...</td>\n      <td>...</td>\n      <td>...</td>\n      <td>...</td>\n      <td>...</td>\n      <td>...</td>\n      <td>...</td>\n      <td>...</td>\n      <td>...</td>\n    </tr>\n    <tr>\n      <th>2022-12-16</th>\n      <td>0</td>\n      <td>0</td>\n      <td>0</td>\n      <td>1</td>\n      <td>1</td>\n      <td>0</td>\n      <td>0</td>\n      <td>0</td>\n      <td>0</td>\n      <td>0</td>\n      <td>...</td>\n      <td>0</td>\n      <td>0</td>\n      <td>0</td>\n      <td>1</td>\n      <td>1</td>\n      <td>0</td>\n      <td>0</td>\n      <td>0</td>\n      <td>0</td>\n      <td>0</td>\n    </tr>\n    <tr>\n      <th>2022-12-19</th>\n      <td>0</td>\n      <td>0</td>\n      <td>1</td>\n      <td>1</td>\n      <td>1</td>\n      <td>1</td>\n      <td>0</td>\n      <td>1</td>\n      <td>1</td>\n      <td>0</td>\n      <td>...</td>\n      <td>0</td>\n      <td>0</td>\n      <td>0</td>\n      <td>0</td>\n      <td>0</td>\n      <td>0</td>\n      <td>0</td>\n      <td>0</td>\n      <td>0</td>\n      <td>0</td>\n    </tr>\n    <tr>\n      <th>2022-12-20</th>\n      <td>1</td>\n      <td>0</td>\n      <td>1</td>\n      <td>1</td>\n      <td>1</td>\n      <td>0</td>\n      <td>0</td>\n      <td>0</td>\n      <td>0</td>\n      <td>1</td>\n      <td>...</td>\n      <td>0</td>\n      <td>0</td>\n      <td>0</td>\n      <td>0</td>\n      <td>1</td>\n      <td>0</td>\n      <td>0</td>\n      <td>1</td>\n      <td>0</td>\n      <td>0</td>\n    </tr>\n    <tr>\n      <th>2022-12-21</th>\n      <td>0</td>\n      <td>0</td>\n      <td>1</td>\n      <td>1</td>\n      <td>1</td>\n      <td>0</td>\n      <td>0</td>\n      <td>0</td>\n      <td>0</td>\n      <td>1</td>\n      <td>...</td>\n      <td>0</td>\n      <td>0</td>\n      <td>0</td>\n      <td>0</td>\n      <td>1</td>\n      <td>0</td>\n      <td>0</td>\n      <td>0</td>\n      <td>1</td>\n      <td>0</td>\n    </tr>\n    <tr>\n      <th>2022-12-22</th>\n      <td>0</td>\n      <td>0</td>\n      <td>0</td>\n      <td>0</td>\n      <td>1</td>\n      <td>0</td>\n      <td>0</td>\n      <td>0</td>\n      <td>0</td>\n      <td>0</td>\n      <td>...</td>\n      <td>0</td>\n      <td>0</td>\n      <td>0</td>\n      <td>0</td>\n      <td>0</td>\n      <td>0</td>\n      <td>0</td>\n      <td>1</td>\n      <td>1</td>\n      <td>0</td>\n    </tr>\n  </tbody>\n</table>\n<p>966 rows × 5002 columns</p>\n</div>"
     },
     "execution_count": 85,
     "metadata": {},
     "output_type": "execute_result"
    }
   ],
   "source": [
    "quantile = 5\n",
    "return_stack = stock_return.stack().dropna()\n",
    "quantile_return = return_stack.groupby(\"dt\").apply(\n",
    "    lambda x: pd.qcut(\n",
    "        x, np.arange(quantile + 1) / quantile, np.arange(quantile)\n",
    "    )\n",
    ")\n",
    "quantile_return[quantile_return < (quantile - 1)] = 0\n",
    "quantile_return[quantile_return == (quantile - 1)] = 1\n",
    "quantile_return.unstack().loc[\"2019-01-01\":, :]"
   ],
   "metadata": {
    "collapsed": false,
    "pycharm": {
     "name": "#%%\n"
    }
   }
  }
 ],
 "metadata": {
  "kernelspec": {
   "display_name": "Python 3",
   "language": "python",
   "name": "python3"
  },
  "language_info": {
   "codemirror_mode": {
    "name": "ipython",
    "version": 2
   },
   "file_extension": ".py",
   "mimetype": "text/x-python",
   "name": "python",
   "nbconvert_exporter": "python",
   "pygments_lexer": "ipython2",
   "version": "2.7.6"
  }
 },
 "nbformat": 4,
 "nbformat_minor": 0
}