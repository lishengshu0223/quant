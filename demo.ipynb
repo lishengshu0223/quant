{
 "cells": [
  {
   "cell_type": "code",
   "execution_count": 1,
   "outputs": [],
   "source": [
    "import pandas as pd\n",
    "import numpy as np\n",
    "from tqdm import tqdm"
   ],
   "metadata": {
    "collapsed": false,
    "pycharm": {
     "name": "#%%\n"
    }
   }
  },
  {
   "cell_type": "code",
   "execution_count": 13,
   "outputs": [
    {
     "data": {
      "text/plain": "                      alphaP0001  alphaP0002  alphaP0003  alphaP0004  \\\ncode      date                                                         \n000001.SZ 2018-01-02    2.092775    2.308255    0.329311    0.619233   \n          2018-01-03    2.657483    2.323697    0.308489    0.878148   \n          2018-01-04   -0.029540    2.287080    0.343293    0.122582   \n          2018-01-05    0.316773    2.250931    0.264644   -0.121824   \n          2018-01-08    1.658981    2.225216    0.153681    0.517513   \n\n                      alphaP0005  alphaP0006  alphaP0007  alphaP0008  \\\ncode      date                                                         \n000001.SZ 2018-01-02    0.230993    0.927089   -0.303216    1.029343   \n          2018-01-03    0.278084   -1.966891   -0.329762   -2.176700   \n          2018-01-04    0.095521    0.247447   -0.333903   -1.703234   \n          2018-01-05    0.294053   -0.693630   -0.329043    0.594335   \n          2018-01-08    0.398156   -1.735062   -0.342388   -2.043304   \n\n                      alphaP0009  alphaP0010  ...  alphaP2019_120_60  \\\ncode      date                                ...                      \n000001.SZ 2018-01-02    1.218699    0.000000  ...           1.020801   \n          2018-01-03    0.000000    0.000000  ...           1.122253   \n          2018-01-04    0.000000    0.651004  ...           1.168328   \n          2018-01-05    0.000000   -0.880260  ...           1.153758   \n          2018-01-08    0.000000   -0.231624  ...           1.209609   \n\n                      alphaP2019_200_10  alphaP2019_200_120  \\\ncode      date                                                \n000001.SZ 2018-01-02          -1.275379            0.415361   \n          2018-01-03          -1.277108            0.500440   \n          2018-01-04          -1.322103            0.523787   \n          2018-01-05          -1.422960            0.507992   \n          2018-01-08          -1.120461            0.569762   \n\n                      alphaP2019_200_20  alphaP2019_200_200  alphaP2019_200_5  \\\ncode      date                                                                  \n000001.SZ 2018-01-02          -0.677882            0.485807         -1.548870   \n          2018-01-03          -0.528526            0.579212         -1.548925   \n          2018-01-04          -0.520922            0.615010         -1.499024   \n          2018-01-05          -0.623765            0.609276         -1.540481   \n          2018-01-08          -0.489789            0.665397         -1.062404   \n\n                      alphaP2019_200_60  alphaP2019_20_10  alphaP2019_20_120  \\\ncode      date                                                                 \n000001.SZ 2018-01-02           0.972719          0.002871           0.460742   \n          2018-01-03           1.069962          0.244758           0.551550   \n          2018-01-04           1.112668          0.137152           0.578172   \n          2018-01-05           1.099127         -0.043438           0.561162   \n          2018-01-08           1.151547          0.517523           0.625696   \n\n                      alphaP2019_20_20  \ncode      date                          \n000001.SZ 2018-01-02          0.086009  \n          2018-01-03          0.285841  \n          2018-01-04          0.293727  \n          2018-01-05          0.184161  \n          2018-01-08          0.349869  \n\n[5 rows x 975 columns]",
      "text/html": "<div>\n<style scoped>\n    .dataframe tbody tr th:only-of-type {\n        vertical-align: middle;\n    }\n\n    .dataframe tbody tr th {\n        vertical-align: top;\n    }\n\n    .dataframe thead th {\n        text-align: right;\n    }\n</style>\n<table border=\"1\" class=\"dataframe\">\n  <thead>\n    <tr style=\"text-align: right;\">\n      <th></th>\n      <th></th>\n      <th>alphaP0001</th>\n      <th>alphaP0002</th>\n      <th>alphaP0003</th>\n      <th>alphaP0004</th>\n      <th>alphaP0005</th>\n      <th>alphaP0006</th>\n      <th>alphaP0007</th>\n      <th>alphaP0008</th>\n      <th>alphaP0009</th>\n      <th>alphaP0010</th>\n      <th>...</th>\n      <th>alphaP2019_120_60</th>\n      <th>alphaP2019_200_10</th>\n      <th>alphaP2019_200_120</th>\n      <th>alphaP2019_200_20</th>\n      <th>alphaP2019_200_200</th>\n      <th>alphaP2019_200_5</th>\n      <th>alphaP2019_200_60</th>\n      <th>alphaP2019_20_10</th>\n      <th>alphaP2019_20_120</th>\n      <th>alphaP2019_20_20</th>\n    </tr>\n    <tr>\n      <th>code</th>\n      <th>date</th>\n      <th></th>\n      <th></th>\n      <th></th>\n      <th></th>\n      <th></th>\n      <th></th>\n      <th></th>\n      <th></th>\n      <th></th>\n      <th></th>\n      <th></th>\n      <th></th>\n      <th></th>\n      <th></th>\n      <th></th>\n      <th></th>\n      <th></th>\n      <th></th>\n      <th></th>\n      <th></th>\n      <th></th>\n    </tr>\n  </thead>\n  <tbody>\n    <tr>\n      <th rowspan=\"5\" valign=\"top\">000001.SZ</th>\n      <th>2018-01-02</th>\n      <td>2.092775</td>\n      <td>2.308255</td>\n      <td>0.329311</td>\n      <td>0.619233</td>\n      <td>0.230993</td>\n      <td>0.927089</td>\n      <td>-0.303216</td>\n      <td>1.029343</td>\n      <td>1.218699</td>\n      <td>0.000000</td>\n      <td>...</td>\n      <td>1.020801</td>\n      <td>-1.275379</td>\n      <td>0.415361</td>\n      <td>-0.677882</td>\n      <td>0.485807</td>\n      <td>-1.548870</td>\n      <td>0.972719</td>\n      <td>0.002871</td>\n      <td>0.460742</td>\n      <td>0.086009</td>\n    </tr>\n    <tr>\n      <th>2018-01-03</th>\n      <td>2.657483</td>\n      <td>2.323697</td>\n      <td>0.308489</td>\n      <td>0.878148</td>\n      <td>0.278084</td>\n      <td>-1.966891</td>\n      <td>-0.329762</td>\n      <td>-2.176700</td>\n      <td>0.000000</td>\n      <td>0.000000</td>\n      <td>...</td>\n      <td>1.122253</td>\n      <td>-1.277108</td>\n      <td>0.500440</td>\n      <td>-0.528526</td>\n      <td>0.579212</td>\n      <td>-1.548925</td>\n      <td>1.069962</td>\n      <td>0.244758</td>\n      <td>0.551550</td>\n      <td>0.285841</td>\n    </tr>\n    <tr>\n      <th>2018-01-04</th>\n      <td>-0.029540</td>\n      <td>2.287080</td>\n      <td>0.343293</td>\n      <td>0.122582</td>\n      <td>0.095521</td>\n      <td>0.247447</td>\n      <td>-0.333903</td>\n      <td>-1.703234</td>\n      <td>0.000000</td>\n      <td>0.651004</td>\n      <td>...</td>\n      <td>1.168328</td>\n      <td>-1.322103</td>\n      <td>0.523787</td>\n      <td>-0.520922</td>\n      <td>0.615010</td>\n      <td>-1.499024</td>\n      <td>1.112668</td>\n      <td>0.137152</td>\n      <td>0.578172</td>\n      <td>0.293727</td>\n    </tr>\n    <tr>\n      <th>2018-01-05</th>\n      <td>0.316773</td>\n      <td>2.250931</td>\n      <td>0.264644</td>\n      <td>-0.121824</td>\n      <td>0.294053</td>\n      <td>-0.693630</td>\n      <td>-0.329043</td>\n      <td>0.594335</td>\n      <td>0.000000</td>\n      <td>-0.880260</td>\n      <td>...</td>\n      <td>1.153758</td>\n      <td>-1.422960</td>\n      <td>0.507992</td>\n      <td>-0.623765</td>\n      <td>0.609276</td>\n      <td>-1.540481</td>\n      <td>1.099127</td>\n      <td>-0.043438</td>\n      <td>0.561162</td>\n      <td>0.184161</td>\n    </tr>\n    <tr>\n      <th>2018-01-08</th>\n      <td>1.658981</td>\n      <td>2.225216</td>\n      <td>0.153681</td>\n      <td>0.517513</td>\n      <td>0.398156</td>\n      <td>-1.735062</td>\n      <td>-0.342388</td>\n      <td>-2.043304</td>\n      <td>0.000000</td>\n      <td>-0.231624</td>\n      <td>...</td>\n      <td>1.209609</td>\n      <td>-1.120461</td>\n      <td>0.569762</td>\n      <td>-0.489789</td>\n      <td>0.665397</td>\n      <td>-1.062404</td>\n      <td>1.151547</td>\n      <td>0.517523</td>\n      <td>0.625696</td>\n      <td>0.349869</td>\n    </tr>\n  </tbody>\n</table>\n<p>5 rows × 975 columns</p>\n</div>"
     },
     "execution_count": 13,
     "metadata": {},
     "output_type": "execute_result"
    }
   ],
   "source": [
    "factor_stack = pd.read_pickle(\"./data/processed_data/factor_stack_2018_2019_test.pkl\")\n",
    "factor_stack.index = factor_stack.index.swaplevel(0,1)\n",
    "factor_stack.sort_index(level=0, inplace=True)\n",
    "factor_stack.head()"
   ],
   "metadata": {
    "collapsed": false,
    "pycharm": {
     "name": "#%%\n"
    }
   }
  },
  {
   "cell_type": "code",
   "execution_count": 35,
   "outputs": [
    {
     "data": {
      "text/plain": "array([('000001.SZ', Timestamp('2018-01-08 00:00:00')),\n       ('000001.SZ', Timestamp('2018-01-09 00:00:00')),\n       ('000001.SZ', Timestamp('2018-01-10 00:00:00')),\n       ('000001.SZ', Timestamp('2018-01-11 00:00:00')),\n       ('000001.SZ', Timestamp('2018-01-12 00:00:00'))], dtype=object)"
     },
     "execution_count": 35,
     "metadata": {},
     "output_type": "execute_result"
    }
   ],
   "source": [
    "valid_date = factor_stack.notna().all(axis=1)\n",
    "valid_date = valid_date.groupby('code', group_keys=False).rolling(5).sum().droplevel(0)\n",
    "valid_date = np.array(valid_date[valid_date==5].index)\n",
    "valid_date[:5]"
   ],
   "metadata": {
    "collapsed": false,
    "pycharm": {
     "name": "#%%\n"
    }
   }
  },
  {
   "cell_type": "code",
   "execution_count": null,
   "outputs": [],
   "source": [],
   "metadata": {
    "collapsed": false,
    "pycharm": {
     "name": "#%%\n"
    }
   }
  }
 ],
 "metadata": {
  "kernelspec": {
   "display_name": "Python 3",
   "language": "python",
   "name": "python3"
  },
  "language_info": {
   "codemirror_mode": {
    "name": "ipython",
    "version": 2
   },
   "file_extension": ".py",
   "mimetype": "text/x-python",
   "name": "python",
   "nbconvert_exporter": "python",
   "pygments_lexer": "ipython2",
   "version": "2.7.6"
  }
 },
 "nbformat": 4,
 "nbformat_minor": 0
}